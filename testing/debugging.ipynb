{
 "cells": [
  {
   "cell_type": "code",
   "execution_count": 11,
   "id": "52de1da8-b554-4c6b-84a7-0e2098f07ed4",
   "metadata": {},
   "outputs": [],
   "source": [
    "import time\n",
    "import jupyter_client"
   ]
  },
  {
   "cell_type": "code",
   "execution_count": 12,
   "id": "a22d65b5-c7e8-4176-8239-a477d6a680e3",
   "metadata": {},
   "outputs": [],
   "source": [
    "km = jupyter_client.KernelManager()\n",
    "km.start_kernel()\n",
    "kc = km.client()\n",
    "kc.start_channels()\n",
    "kc.wait_for_ready()"
   ]
  },
  {
   "cell_type": "markdown",
   "id": "facb7dde-ad77-46f7-ba75-fd47e73d707a",
   "metadata": {},
   "source": [
    "## Example: running a simple operation"
   ]
  },
  {
   "cell_type": "code",
   "execution_count": 13,
   "id": "e9ab8a08-6701-4e7f-9909-ef9a3927dc78",
   "metadata": {},
   "outputs": [
    {
     "data": {
      "text/plain": [
       "{'header': {'msg_id': '0e58725b-37b683a1a80d8f67f7e70c9d_14059_5',\n",
       "  'msg_type': 'kernel_info_reply',\n",
       "  'username': 'Edu',\n",
       "  'session': '0e58725b-37b683a1a80d8f67f7e70c9d',\n",
       "  'date': datetime.datetime(2022, 6, 22, 12, 49, 21, 740338, tzinfo=tzutc()),\n",
       "  'version': '5.3'},\n",
       " 'msg_id': '0e58725b-37b683a1a80d8f67f7e70c9d_14059_5',\n",
       " 'msg_type': 'kernel_info_reply',\n",
       " 'parent_header': {'msg_id': 'e7fae20c-dd2d96a5b4448810864141e0_85658_1',\n",
       "  'msg_type': 'kernel_info_request',\n",
       "  'username': 'Edu',\n",
       "  'session': 'e7fae20c-dd2d96a5b4448810864141e0',\n",
       "  'date': datetime.datetime(2022, 6, 22, 12, 49, 20, 948503, tzinfo=tzutc()),\n",
       "  'version': '5.3'},\n",
       " 'metadata': {},\n",
       " 'content': {'status': 'ok',\n",
       "  'protocol_version': '5.3',\n",
       "  'implementation': 'ipython',\n",
       "  'implementation_version': '7.31.0',\n",
       "  'language_info': {'name': 'python',\n",
       "   'version': '3.9.9',\n",
       "   'mimetype': 'text/x-python',\n",
       "   'codemirror_mode': {'name': 'ipython', 'version': 3},\n",
       "   'pygments_lexer': 'ipython3',\n",
       "   'nbconvert_exporter': 'python',\n",
       "   'file_extension': '.py'},\n",
       "  'banner': \"Python 3.9.9 | packaged by conda-forge | (main, Dec 20 2021, 02:41:37) \\nType 'copyright', 'credits' or 'license' for more information\\nIPython 7.31.0 -- An enhanced Interactive Python. Type '?' for help.\\n\",\n",
       "  'help_links': [{'text': 'Python Reference',\n",
       "    'url': 'https://docs.python.org/3.9'},\n",
       "   {'text': 'IPython Reference',\n",
       "    'url': 'https://ipython.org/documentation.html'},\n",
       "   {'text': 'NumPy Reference',\n",
       "    'url': 'https://docs.scipy.org/doc/numpy/reference/'},\n",
       "   {'text': 'SciPy Reference',\n",
       "    'url': 'https://docs.scipy.org/doc/scipy/reference/'},\n",
       "   {'text': 'Matplotlib Reference',\n",
       "    'url': 'https://matplotlib.org/contents.html'},\n",
       "   {'text': 'SymPy Reference',\n",
       "    'url': 'http://docs.sympy.org/latest/index.html'},\n",
       "   {'text': 'pandas Reference',\n",
       "    'url': 'https://pandas.pydata.org/pandas-docs/stable/'}]},\n",
       " 'buffers': []}"
      ]
     },
     "execution_count": 13,
     "metadata": {},
     "output_type": "execute_result"
    }
   ],
   "source": [
    "# kernel: busy\n",
    "kc.execute('1 + 1')\n",
    "kc.get_shell_msg()"
   ]
  },
  {
   "cell_type": "code",
   "execution_count": 14,
   "id": "9ff49115",
   "metadata": {},
   "outputs": [
    {
     "data": {
      "text/plain": [
       "{'header': {'msg_id': '0e58725b-37b683a1a80d8f67f7e70c9d_14059_7',\n",
       "  'msg_type': 'status',\n",
       "  'username': 'Edu',\n",
       "  'session': '0e58725b-37b683a1a80d8f67f7e70c9d',\n",
       "  'date': datetime.datetime(2022, 6, 22, 12, 49, 23, 697969, tzinfo=tzutc()),\n",
       "  'version': '5.3'},\n",
       " 'msg_id': '0e58725b-37b683a1a80d8f67f7e70c9d_14059_7',\n",
       " 'msg_type': 'status',\n",
       " 'parent_header': {'msg_id': 'e7fae20c-dd2d96a5b4448810864141e0_85658_2',\n",
       "  'msg_type': 'execute_request',\n",
       "  'username': 'Edu',\n",
       "  'session': 'e7fae20c-dd2d96a5b4448810864141e0',\n",
       "  'date': datetime.datetime(2022, 6, 22, 12, 49, 23, 695973, tzinfo=tzutc()),\n",
       "  'version': '5.3'},\n",
       " 'metadata': {},\n",
       " 'content': {'execution_state': 'busy'},\n",
       " 'buffers': []}"
      ]
     },
     "execution_count": 14,
     "metadata": {},
     "output_type": "execute_result"
    }
   ],
   "source": [
    "kc.get_iopub_msg()"
   ]
  },
  {
   "cell_type": "code",
   "execution_count": 15,
   "id": "faf9ba10-a42f-469f-bfaa-f4caf61e9024",
   "metadata": {},
   "outputs": [
    {
     "data": {
      "text/plain": [
       "{'header': {'msg_id': '0e58725b-37b683a1a80d8f67f7e70c9d_14059_8',\n",
       "  'msg_type': 'execute_input',\n",
       "  'username': 'Edu',\n",
       "  'session': '0e58725b-37b683a1a80d8f67f7e70c9d',\n",
       "  'date': datetime.datetime(2022, 6, 22, 12, 49, 23, 698989, tzinfo=tzutc()),\n",
       "  'version': '5.3'},\n",
       " 'msg_id': '0e58725b-37b683a1a80d8f67f7e70c9d_14059_8',\n",
       " 'msg_type': 'execute_input',\n",
       " 'parent_header': {'msg_id': 'e7fae20c-dd2d96a5b4448810864141e0_85658_2',\n",
       "  'msg_type': 'execute_request',\n",
       "  'username': 'Edu',\n",
       "  'session': 'e7fae20c-dd2d96a5b4448810864141e0',\n",
       "  'date': datetime.datetime(2022, 6, 22, 12, 49, 23, 695973, tzinfo=tzutc()),\n",
       "  'version': '5.3'},\n",
       " 'metadata': {},\n",
       " 'content': {'code': '1 + 1', 'execution_count': 1},\n",
       " 'buffers': []}"
      ]
     },
     "execution_count": 15,
     "metadata": {},
     "output_type": "execute_result"
    }
   ],
   "source": [
    "# returns the execution count\n",
    "time.sleep(1)\n",
    "kc.get_iopub_msg()"
   ]
  },
  {
   "cell_type": "code",
   "execution_count": 5,
   "id": "c14d73ee-0535-4b01-8c1a-c47ea17af135",
   "metadata": {},
   "outputs": [
    {
     "data": {
      "text/plain": [
       "{'header': {'msg_id': 'e5428943-07450fa49577967988578627_89688_9',\n",
       "  'msg_type': 'execute_result',\n",
       "  'username': 'Edu',\n",
       "  'session': 'e5428943-07450fa49577967988578627',\n",
       "  'date': datetime.datetime(2022, 6, 22, 10, 25, 56, 193165, tzinfo=tzutc()),\n",
       "  'version': '5.3'},\n",
       " 'msg_id': 'e5428943-07450fa49577967988578627_89688_9',\n",
       " 'msg_type': 'execute_result',\n",
       " 'parent_header': {'msg_id': '3b347e4e-1336dfb560d322de3f6c032e_85658_2',\n",
       "  'msg_type': 'execute_request',\n",
       "  'username': 'Edu',\n",
       "  'session': '3b347e4e-1336dfb560d322de3f6c032e',\n",
       "  'date': datetime.datetime(2022, 6, 22, 10, 25, 56, 175785, tzinfo=tzutc()),\n",
       "  'version': '5.3'},\n",
       " 'metadata': {},\n",
       " 'content': {'data': {'text/plain': '2'},\n",
       "  'metadata': {},\n",
       "  'execution_count': 1},\n",
       " 'buffers': []}"
      ]
     },
     "execution_count": 5,
     "metadata": {},
     "output_type": "execute_result"
    }
   ],
   "source": [
    "# returns the output\n",
    "kc.get_iopub_msg()"
   ]
  },
  {
   "cell_type": "code",
   "execution_count": 6,
   "id": "142e23fc-8bb2-4fcd-ad66-cd0ca8970650",
   "metadata": {},
   "outputs": [
    {
     "data": {
      "text/plain": [
       "{'header': {'msg_id': 'e5428943-07450fa49577967988578627_89688_11',\n",
       "  'msg_type': 'status',\n",
       "  'username': 'Edu',\n",
       "  'session': 'e5428943-07450fa49577967988578627',\n",
       "  'date': datetime.datetime(2022, 6, 22, 10, 25, 56, 206650, tzinfo=tzutc()),\n",
       "  'version': '5.3'},\n",
       " 'msg_id': 'e5428943-07450fa49577967988578627_89688_11',\n",
       " 'msg_type': 'status',\n",
       " 'parent_header': {'msg_id': '3b347e4e-1336dfb560d322de3f6c032e_85658_2',\n",
       "  'msg_type': 'execute_request',\n",
       "  'username': 'Edu',\n",
       "  'session': '3b347e4e-1336dfb560d322de3f6c032e',\n",
       "  'date': datetime.datetime(2022, 6, 22, 10, 25, 56, 175785, tzinfo=tzutc()),\n",
       "  'version': '5.3'},\n",
       " 'metadata': {},\n",
       " 'content': {'execution_state': 'idle'},\n",
       " 'buffers': []}"
      ]
     },
     "execution_count": 6,
     "metadata": {},
     "output_type": "execute_result"
    }
   ],
   "source": [
    "# kernel: idle\n",
    "kc.get_iopub_msg()"
   ]
  },
  {
   "cell_type": "markdown",
   "id": "5a3e1dea-b504-4c36-88bc-685ff1331f38",
   "metadata": {},
   "source": [
    "## Requesting input"
   ]
  },
  {
   "cell_type": "code",
   "execution_count": 9,
   "id": "131cbefc-e128-400f-bc9a-91416563fb46",
   "metadata": {},
   "outputs": [
    {
     "data": {
      "text/plain": [
       "{'header': {'msg_id': 'e5428943-07450fa49577967988578627_89688_13',\n",
       "  'msg_type': 'execute_input',\n",
       "  'username': 'Edu',\n",
       "  'session': 'e5428943-07450fa49577967988578627',\n",
       "  'date': datetime.datetime(2022, 6, 22, 10, 27, 12, 938345, tzinfo=tzutc()),\n",
       "  'version': '5.3'},\n",
       " 'msg_id': 'e5428943-07450fa49577967988578627_89688_13',\n",
       " 'msg_type': 'execute_input',\n",
       " 'parent_header': {'msg_id': '3b347e4e-1336dfb560d322de3f6c032e_85658_3',\n",
       "  'msg_type': 'execute_request',\n",
       "  'username': 'Edu',\n",
       "  'session': '3b347e4e-1336dfb560d322de3f6c032e',\n",
       "  'date': datetime.datetime(2022, 6, 22, 10, 27, 12, 935179, tzinfo=tzutc()),\n",
       "  'version': '5.3'},\n",
       " 'metadata': {},\n",
       " 'content': {'code': \"x = input('enter input')\", 'execution_count': 2},\n",
       " 'buffers': []}"
      ]
     },
     "execution_count": 9,
     "metadata": {},
     "output_type": "execute_result"
    }
   ],
   "source": [
    "# kernel: busy\n",
    "kc.execute(\"x = input('enter input')\")\n",
    "# async way to get messages\n",
    "# await kc.iopub_channel.get_msg()\n",
    "\n",
    "kc.get_iopub_msg()"
   ]
  },
  {
   "cell_type": "code",
   "execution_count": 10,
   "id": "09d1282b-b672-49fc-a367-dae5210b6911",
   "metadata": {},
   "outputs": [
    {
     "ename": "KeyboardInterrupt",
     "evalue": "",
     "output_type": "error",
     "traceback": [
      "\u001b[0;31m---------------------------------------------------------------------------\u001b[0m",
      "\u001b[0;31mKeyboardInterrupt\u001b[0m                         Traceback (most recent call last)",
      "\u001b[0;32m/var/folders/3h/_lvh_w_x5g30rrjzb_xnn2j80000gq/T/ipykernel_85658/4224696071.py\u001b[0m in \u001b[0;36m<module>\u001b[0;34m\u001b[0m\n\u001b[1;32m      1\u001b[0m \u001b[0;31m# returns the execution count\u001b[0m\u001b[0;34m\u001b[0m\u001b[0;34m\u001b[0m\u001b[0m\n\u001b[1;32m      2\u001b[0m \u001b[0mtime\u001b[0m\u001b[0;34m.\u001b[0m\u001b[0msleep\u001b[0m\u001b[0;34m(\u001b[0m\u001b[0;36m1\u001b[0m\u001b[0;34m)\u001b[0m\u001b[0;34m\u001b[0m\u001b[0;34m\u001b[0m\u001b[0m\n\u001b[0;32m----> 3\u001b[0;31m \u001b[0mkc\u001b[0m\u001b[0;34m.\u001b[0m\u001b[0mget_iopub_msg\u001b[0m\u001b[0;34m(\u001b[0m\u001b[0;34m)\u001b[0m\u001b[0;34m\u001b[0m\u001b[0;34m\u001b[0m\u001b[0m\n\u001b[0m",
      "\u001b[0;32m~/miniconda3/envs/ploomber/lib/python3.9/site-packages/jupyter_client/utils.py\u001b[0m in \u001b[0;36mwrapped\u001b[0;34m(*args, **kwargs)\u001b[0m\n\u001b[1;32m     24\u001b[0m         \u001b[0;32mexcept\u001b[0m \u001b[0mBaseException\u001b[0m \u001b[0;32mas\u001b[0m \u001b[0me\u001b[0m\u001b[0;34m:\u001b[0m\u001b[0;34m\u001b[0m\u001b[0;34m\u001b[0m\u001b[0m\n\u001b[1;32m     25\u001b[0m             \u001b[0mfuture\u001b[0m\u001b[0;34m.\u001b[0m\u001b[0mcancel\u001b[0m\u001b[0;34m(\u001b[0m\u001b[0;34m)\u001b[0m\u001b[0;34m\u001b[0m\u001b[0;34m\u001b[0m\u001b[0m\n\u001b[0;32m---> 26\u001b[0;31m             \u001b[0;32mraise\u001b[0m \u001b[0me\u001b[0m\u001b[0;34m\u001b[0m\u001b[0;34m\u001b[0m\u001b[0m\n\u001b[0m\u001b[1;32m     27\u001b[0m \u001b[0;34m\u001b[0m\u001b[0m\n\u001b[1;32m     28\u001b[0m     \u001b[0mwrapped\u001b[0m\u001b[0;34m.\u001b[0m\u001b[0m__doc__\u001b[0m \u001b[0;34m=\u001b[0m \u001b[0mcoro\u001b[0m\u001b[0;34m.\u001b[0m\u001b[0m__doc__\u001b[0m\u001b[0;34m\u001b[0m\u001b[0;34m\u001b[0m\u001b[0m\n",
      "\u001b[0;32m~/miniconda3/envs/ploomber/lib/python3.9/site-packages/jupyter_client/utils.py\u001b[0m in \u001b[0;36mwrapped\u001b[0;34m(*args, **kwargs)\u001b[0m\n\u001b[1;32m     21\u001b[0m         \u001b[0mfuture\u001b[0m \u001b[0;34m=\u001b[0m \u001b[0masyncio\u001b[0m\u001b[0;34m.\u001b[0m\u001b[0mensure_future\u001b[0m\u001b[0;34m(\u001b[0m\u001b[0mcoro\u001b[0m\u001b[0;34m(\u001b[0m\u001b[0;34m*\u001b[0m\u001b[0margs\u001b[0m\u001b[0;34m,\u001b[0m \u001b[0;34m**\u001b[0m\u001b[0mkwargs\u001b[0m\u001b[0;34m)\u001b[0m\u001b[0;34m)\u001b[0m\u001b[0;34m\u001b[0m\u001b[0;34m\u001b[0m\u001b[0m\n\u001b[1;32m     22\u001b[0m         \u001b[0;32mtry\u001b[0m\u001b[0;34m:\u001b[0m\u001b[0;34m\u001b[0m\u001b[0;34m\u001b[0m\u001b[0m\n\u001b[0;32m---> 23\u001b[0;31m             \u001b[0;32mreturn\u001b[0m \u001b[0mloop\u001b[0m\u001b[0;34m.\u001b[0m\u001b[0mrun_until_complete\u001b[0m\u001b[0;34m(\u001b[0m\u001b[0mfuture\u001b[0m\u001b[0;34m)\u001b[0m\u001b[0;34m\u001b[0m\u001b[0;34m\u001b[0m\u001b[0m\n\u001b[0m\u001b[1;32m     24\u001b[0m         \u001b[0;32mexcept\u001b[0m \u001b[0mBaseException\u001b[0m \u001b[0;32mas\u001b[0m \u001b[0me\u001b[0m\u001b[0;34m:\u001b[0m\u001b[0;34m\u001b[0m\u001b[0;34m\u001b[0m\u001b[0m\n\u001b[1;32m     25\u001b[0m             \u001b[0mfuture\u001b[0m\u001b[0;34m.\u001b[0m\u001b[0mcancel\u001b[0m\u001b[0;34m(\u001b[0m\u001b[0;34m)\u001b[0m\u001b[0;34m\u001b[0m\u001b[0;34m\u001b[0m\u001b[0m\n",
      "\u001b[0;32m~/miniconda3/envs/ploomber/lib/python3.9/site-packages/nest_asyncio.py\u001b[0m in \u001b[0;36mrun_until_complete\u001b[0;34m(self, future)\u001b[0m\n\u001b[1;32m     73\u001b[0m                 \u001b[0mf\u001b[0m\u001b[0;34m.\u001b[0m\u001b[0m_log_destroy_pending\u001b[0m \u001b[0;34m=\u001b[0m \u001b[0;32mFalse\u001b[0m\u001b[0;34m\u001b[0m\u001b[0;34m\u001b[0m\u001b[0m\n\u001b[1;32m     74\u001b[0m             \u001b[0;32mwhile\u001b[0m \u001b[0;32mnot\u001b[0m \u001b[0mf\u001b[0m\u001b[0;34m.\u001b[0m\u001b[0mdone\u001b[0m\u001b[0;34m(\u001b[0m\u001b[0;34m)\u001b[0m\u001b[0;34m:\u001b[0m\u001b[0;34m\u001b[0m\u001b[0;34m\u001b[0m\u001b[0m\n\u001b[0;32m---> 75\u001b[0;31m                 \u001b[0mself\u001b[0m\u001b[0;34m.\u001b[0m\u001b[0m_run_once\u001b[0m\u001b[0;34m(\u001b[0m\u001b[0;34m)\u001b[0m\u001b[0;34m\u001b[0m\u001b[0;34m\u001b[0m\u001b[0m\n\u001b[0m\u001b[1;32m     76\u001b[0m                 \u001b[0;32mif\u001b[0m \u001b[0mself\u001b[0m\u001b[0;34m.\u001b[0m\u001b[0m_stopping\u001b[0m\u001b[0;34m:\u001b[0m\u001b[0;34m\u001b[0m\u001b[0;34m\u001b[0m\u001b[0m\n\u001b[1;32m     77\u001b[0m                     \u001b[0;32mbreak\u001b[0m\u001b[0;34m\u001b[0m\u001b[0;34m\u001b[0m\u001b[0m\n",
      "\u001b[0;32m~/miniconda3/envs/ploomber/lib/python3.9/site-packages/nest_asyncio.py\u001b[0m in \u001b[0;36m_run_once\u001b[0;34m(self)\u001b[0m\n\u001b[1;32m     96\u001b[0m                 scheduled[0]._when - self.time(), 0), 86400) if scheduled\n\u001b[1;32m     97\u001b[0m             else None)\n\u001b[0;32m---> 98\u001b[0;31m         \u001b[0mevent_list\u001b[0m \u001b[0;34m=\u001b[0m \u001b[0mself\u001b[0m\u001b[0;34m.\u001b[0m\u001b[0m_selector\u001b[0m\u001b[0;34m.\u001b[0m\u001b[0mselect\u001b[0m\u001b[0;34m(\u001b[0m\u001b[0mtimeout\u001b[0m\u001b[0;34m)\u001b[0m\u001b[0;34m\u001b[0m\u001b[0;34m\u001b[0m\u001b[0m\n\u001b[0m\u001b[1;32m     99\u001b[0m         \u001b[0mself\u001b[0m\u001b[0;34m.\u001b[0m\u001b[0m_process_events\u001b[0m\u001b[0;34m(\u001b[0m\u001b[0mevent_list\u001b[0m\u001b[0;34m)\u001b[0m\u001b[0;34m\u001b[0m\u001b[0;34m\u001b[0m\u001b[0m\n\u001b[1;32m    100\u001b[0m \u001b[0;34m\u001b[0m\u001b[0m\n",
      "\u001b[0;32m~/miniconda3/envs/ploomber/lib/python3.9/selectors.py\u001b[0m in \u001b[0;36mselect\u001b[0;34m(self, timeout)\u001b[0m\n\u001b[1;32m    560\u001b[0m             \u001b[0mready\u001b[0m \u001b[0;34m=\u001b[0m \u001b[0;34m[\u001b[0m\u001b[0;34m]\u001b[0m\u001b[0;34m\u001b[0m\u001b[0;34m\u001b[0m\u001b[0m\n\u001b[1;32m    561\u001b[0m             \u001b[0;32mtry\u001b[0m\u001b[0;34m:\u001b[0m\u001b[0;34m\u001b[0m\u001b[0;34m\u001b[0m\u001b[0m\n\u001b[0;32m--> 562\u001b[0;31m                 \u001b[0mkev_list\u001b[0m \u001b[0;34m=\u001b[0m \u001b[0mself\u001b[0m\u001b[0;34m.\u001b[0m\u001b[0m_selector\u001b[0m\u001b[0;34m.\u001b[0m\u001b[0mcontrol\u001b[0m\u001b[0;34m(\u001b[0m\u001b[0;32mNone\u001b[0m\u001b[0;34m,\u001b[0m \u001b[0mmax_ev\u001b[0m\u001b[0;34m,\u001b[0m \u001b[0mtimeout\u001b[0m\u001b[0;34m)\u001b[0m\u001b[0;34m\u001b[0m\u001b[0;34m\u001b[0m\u001b[0m\n\u001b[0m\u001b[1;32m    563\u001b[0m             \u001b[0;32mexcept\u001b[0m \u001b[0mInterruptedError\u001b[0m\u001b[0;34m:\u001b[0m\u001b[0;34m\u001b[0m\u001b[0;34m\u001b[0m\u001b[0m\n\u001b[1;32m    564\u001b[0m                 \u001b[0;32mreturn\u001b[0m \u001b[0mready\u001b[0m\u001b[0;34m\u001b[0m\u001b[0;34m\u001b[0m\u001b[0m\n",
      "\u001b[0;31mKeyboardInterrupt\u001b[0m: "
     ]
    }
   ],
   "source": [
    "# returns the execution count\n",
    "time.sleep(1)\n",
    "kc.get_iopub_msg()"
   ]
  },
  {
   "cell_type": "code",
   "execution_count": 9,
   "id": "1adf123f-6a58-4764-8df8-7754b41f3253",
   "metadata": {},
   "outputs": [],
   "source": [
    "# that's it, no more io messages..."
   ]
  },
  {
   "cell_type": "code",
   "execution_count": 10,
   "id": "b0c8fc86-79a1-4171-b77b-b19855ba064a",
   "metadata": {},
   "outputs": [
    {
     "data": {
      "text/plain": [
       "{'header': {'msg_id': 'ce61aba6-8fe8f5cb9ebb54bde011a8e2_56931_14',\n",
       "  'msg_type': 'input_request',\n",
       "  'username': 'Edu',\n",
       "  'session': 'ce61aba6-8fe8f5cb9ebb54bde011a8e2',\n",
       "  'date': datetime.datetime(2022, 6, 21, 21, 8, 33, 180331, tzinfo=tzutc()),\n",
       "  'version': '5.3'},\n",
       " 'msg_id': 'ce61aba6-8fe8f5cb9ebb54bde011a8e2_56931_14',\n",
       " 'msg_type': 'input_request',\n",
       " 'parent_header': {'msg_id': '5516b00f-f9e073d72c9f0d35e393c929_56920_3',\n",
       "  'msg_type': 'execute_request',\n",
       "  'username': 'Edu',\n",
       "  'session': '5516b00f-f9e073d72c9f0d35e393c929',\n",
       "  'date': datetime.datetime(2022, 6, 21, 21, 8, 33, 174946, tzinfo=tzutc()),\n",
       "  'version': '5.3'},\n",
       " 'metadata': {},\n",
       " 'content': {'prompt': 'enter input', 'password': False},\n",
       " 'buffers': []}"
      ]
     },
     "execution_count": 10,
     "metadata": {},
     "output_type": "execute_result"
    }
   ],
   "source": [
    "# we get the message with the input prompt\n",
    "kc.get_stdin_msg()"
   ]
  },
  {
   "cell_type": "code",
   "execution_count": 11,
   "id": "da3ce14c-5043-4b8f-ba12-d8cc69c56a03",
   "metadata": {},
   "outputs": [],
   "source": [
    "# send input\n",
    "kc.input('my amazing input')"
   ]
  },
  {
   "cell_type": "code",
   "execution_count": 12,
   "id": "9482b816-da07-4167-8610-0843320842ff",
   "metadata": {},
   "outputs": [
    {
     "data": {
      "text/plain": [
       "{'header': {'msg_id': 'ce61aba6-8fe8f5cb9ebb54bde011a8e2_56931_16',\n",
       "  'msg_type': 'status',\n",
       "  'username': 'Edu',\n",
       "  'session': 'ce61aba6-8fe8f5cb9ebb54bde011a8e2',\n",
       "  'date': datetime.datetime(2022, 6, 21, 21, 8, 48, 891779, tzinfo=tzutc()),\n",
       "  'version': '5.3'},\n",
       " 'msg_id': 'ce61aba6-8fe8f5cb9ebb54bde011a8e2_56931_16',\n",
       " 'msg_type': 'status',\n",
       " 'parent_header': {'msg_id': '5516b00f-f9e073d72c9f0d35e393c929_56920_3',\n",
       "  'msg_type': 'execute_request',\n",
       "  'username': 'Edu',\n",
       "  'session': '5516b00f-f9e073d72c9f0d35e393c929',\n",
       "  'date': datetime.datetime(2022, 6, 21, 21, 8, 33, 174946, tzinfo=tzutc()),\n",
       "  'version': '5.3'},\n",
       " 'metadata': {},\n",
       " 'content': {'execution_state': 'idle'},\n",
       " 'buffers': []}"
      ]
     },
     "execution_count": 12,
     "metadata": {},
     "output_type": "execute_result"
    }
   ],
   "source": [
    "kc.get_iopub_msg()"
   ]
  },
  {
   "cell_type": "code",
   "execution_count": 13,
   "id": "09638b05-231b-460f-97c3-d8bb2e77583b",
   "metadata": {},
   "outputs": [
    {
     "data": {
      "text/plain": [
       "{'header': {'msg_id': 'ce61aba6-8fe8f5cb9ebb54bde011a8e2_56931_19',\n",
       "  'msg_type': 'execute_result',\n",
       "  'username': 'Edu',\n",
       "  'session': 'ce61aba6-8fe8f5cb9ebb54bde011a8e2',\n",
       "  'date': datetime.datetime(2022, 6, 21, 21, 8, 54, 269365, tzinfo=tzutc()),\n",
       "  'version': '5.3'},\n",
       " 'msg_id': 'ce61aba6-8fe8f5cb9ebb54bde011a8e2_56931_19',\n",
       " 'msg_type': 'execute_result',\n",
       " 'parent_header': {'msg_id': '5516b00f-f9e073d72c9f0d35e393c929_56920_5',\n",
       "  'msg_type': 'execute_request',\n",
       "  'username': 'Edu',\n",
       "  'session': '5516b00f-f9e073d72c9f0d35e393c929',\n",
       "  'date': datetime.datetime(2022, 6, 21, 21, 8, 54, 265837, tzinfo=tzutc()),\n",
       "  'version': '5.3'},\n",
       " 'metadata': {},\n",
       " 'content': {'data': {'text/plain': \"'my amazing input'\"},\n",
       "  'metadata': {},\n",
       "  'execution_count': 3},\n",
       " 'buffers': []}"
      ]
     },
     "execution_count": 13,
     "metadata": {},
     "output_type": "execute_result"
    }
   ],
   "source": [
    "kc.execute(\"x\")\n",
    "time.sleep(1)\n",
    "kc.get_iopub_msg()\n",
    "kc.get_iopub_msg()\n",
    "kc.get_iopub_msg()"
   ]
  },
  {
   "cell_type": "code",
   "execution_count": null,
   "id": "7648567e-41ee-46d9-b4dd-0ab2fc2be065",
   "metadata": {},
   "outputs": [],
   "source": []
  }
 ],
 "metadata": {
  "kernelspec": {
   "display_name": "Python 3.9.9 ('ploomber')",
   "language": "python",
   "name": "python3"
  },
  "language_info": {
   "codemirror_mode": {
    "name": "ipython",
    "version": 3
   },
   "file_extension": ".py",
   "mimetype": "text/x-python",
   "name": "python",
   "nbconvert_exporter": "python",
   "pygments_lexer": "ipython3",
   "version": "3.9.9"
  },
  "vscode": {
   "interpreter": {
    "hash": "6f8a5954c9cc03e4b93e8ed0214d3d8b621da2a57e569171f08a848840f6b399"
   }
  }
 },
 "nbformat": 4,
 "nbformat_minor": 5
}
